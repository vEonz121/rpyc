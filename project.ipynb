{
 "cells": [
  {
   "cell_type": "markdown",
   "metadata": {},
   "source": [
    "<b>Prepared by: </b>CTRL + Z Zone\n",
    "\n",
    "| No. | Name                                        | ID                    | Program                   |\n",
    "|-----|---------------------------------------------|-----------------------|---------------------------|\n",
    "| 1   |     Mohd Nazeem Bin Mohamad Salim           |     18000927          |     Information System    |\n",
    "| 2   |     Danish Hisyam                           |     18001136          |     Computer Science      |\n",
    "| 3   |     Ahvinraaj A/L Thetchinamoorthy          |     17009199          |     Computer Science      |\n",
    "| 4   |     Ilyas Bin Johari                        |     18000842          |     Computer Science      |"
   ]
  },
  {
   "cell_type": "markdown",
   "metadata": {},
   "source": [
    "Overview\n",
    "----------------------------------------------------------------\n",
    "1. Import Dataset\n",
    "2. Dataset Exploration\n",
    "3. Data Cleaning\n",
    "4. Model Training & Evaluation\n",
    "\n",
    "\n",
    "<br>\n",
    "<br>\n",
    "<br>"
   ]
  },
  {
   "cell_type": "markdown",
   "metadata": {},
   "source": [
    "# <u><b>IMPORT DATASET</b></u>"
   ]
  },
  {
   "cell_type": "code",
   "execution_count": 5,
   "metadata": {},
   "outputs": [
    {
     "data": {
      "text/html": [
       "<div>\n",
       "<style scoped>\n",
       "    .dataframe tbody tr th:only-of-type {\n",
       "        vertical-align: middle;\n",
       "    }\n",
       "\n",
       "    .dataframe tbody tr th {\n",
       "        vertical-align: top;\n",
       "    }\n",
       "\n",
       "    .dataframe thead th {\n",
       "        text-align: right;\n",
       "    }\n",
       "</style>\n",
       "<table border=\"1\" class=\"dataframe\">\n",
       "  <thead>\n",
       "    <tr style=\"text-align: right;\">\n",
       "      <th></th>\n",
       "      <th>Breathing Problem</th>\n",
       "      <th>Fever</th>\n",
       "      <th>Dry Cough</th>\n",
       "      <th>Sore throat</th>\n",
       "      <th>Running Nose</th>\n",
       "      <th>Asthma</th>\n",
       "      <th>Chronic Lung Disease</th>\n",
       "      <th>Headache</th>\n",
       "      <th>Heart Disease</th>\n",
       "      <th>Diabetes</th>\n",
       "      <th>Hyper Tension</th>\n",
       "      <th>Fatigue</th>\n",
       "      <th>Gastrointestinal</th>\n",
       "      <th>Abroad travel</th>\n",
       "      <th>Contact with COVID Patient</th>\n",
       "      <th>Attended Large Gathering</th>\n",
       "      <th>Visited Public Exposed Places</th>\n",
       "      <th>Family working in Public Exposed Places</th>\n",
       "      <th>Wearing Masks</th>\n",
       "      <th>Sanitization from Market</th>\n",
       "      <th>COVID-19</th>\n",
       "    </tr>\n",
       "  </thead>\n",
       "  <tbody>\n",
       "    <tr>\n",
       "      <th>0</th>\n",
       "      <td>No</td>\n",
       "      <td>Yes</td>\n",
       "      <td>Yes</td>\n",
       "      <td>Yes</td>\n",
       "      <td>Yes</td>\n",
       "      <td>Yes</td>\n",
       "      <td>Yes</td>\n",
       "      <td>No</td>\n",
       "      <td>Yes</td>\n",
       "      <td>Yes</td>\n",
       "      <td>Yes</td>\n",
       "      <td>No</td>\n",
       "      <td>Yes</td>\n",
       "      <td>No</td>\n",
       "      <td>No</td>\n",
       "      <td>No</td>\n",
       "      <td>No</td>\n",
       "      <td>No</td>\n",
       "      <td>No</td>\n",
       "      <td>No</td>\n",
       "      <td>Yes</td>\n",
       "    </tr>\n",
       "    <tr>\n",
       "      <th>1</th>\n",
       "      <td>Yes</td>\n",
       "      <td>Yes</td>\n",
       "      <td>Yes</td>\n",
       "      <td>Yes</td>\n",
       "      <td>No</td>\n",
       "      <td>No</td>\n",
       "      <td>No</td>\n",
       "      <td>No</td>\n",
       "      <td>Yes</td>\n",
       "      <td>Yes</td>\n",
       "      <td>Yes</td>\n",
       "      <td>Yes</td>\n",
       "      <td>No</td>\n",
       "      <td>No</td>\n",
       "      <td>Yes</td>\n",
       "      <td>No</td>\n",
       "      <td>Yes</td>\n",
       "      <td>Yes</td>\n",
       "      <td>No</td>\n",
       "      <td>No</td>\n",
       "      <td>Yes</td>\n",
       "    </tr>\n",
       "    <tr>\n",
       "      <th>2</th>\n",
       "      <td>No</td>\n",
       "      <td>No</td>\n",
       "      <td>No</td>\n",
       "      <td>No</td>\n",
       "      <td>No</td>\n",
       "      <td>No</td>\n",
       "      <td>Yes</td>\n",
       "      <td>Yes</td>\n",
       "      <td>No</td>\n",
       "      <td>No</td>\n",
       "      <td>No</td>\n",
       "      <td>Yes</td>\n",
       "      <td>Yes</td>\n",
       "      <td>No</td>\n",
       "      <td>No</td>\n",
       "      <td>No</td>\n",
       "      <td>No</td>\n",
       "      <td>No</td>\n",
       "      <td>No</td>\n",
       "      <td>No</td>\n",
       "      <td>No</td>\n",
       "    </tr>\n",
       "    <tr>\n",
       "      <th>3</th>\n",
       "      <td>Yes</td>\n",
       "      <td>Yes</td>\n",
       "      <td>Yes</td>\n",
       "      <td>Yes</td>\n",
       "      <td>Yes</td>\n",
       "      <td>Yes</td>\n",
       "      <td>Yes</td>\n",
       "      <td>No</td>\n",
       "      <td>No</td>\n",
       "      <td>No</td>\n",
       "      <td>Yes</td>\n",
       "      <td>Yes</td>\n",
       "      <td>Yes</td>\n",
       "      <td>Yes</td>\n",
       "      <td>No</td>\n",
       "      <td>Yes</td>\n",
       "      <td>Yes</td>\n",
       "      <td>No</td>\n",
       "      <td>No</td>\n",
       "      <td>No</td>\n",
       "      <td>Yes</td>\n",
       "    </tr>\n",
       "    <tr>\n",
       "      <th>4</th>\n",
       "      <td>No</td>\n",
       "      <td>No</td>\n",
       "      <td>No</td>\n",
       "      <td>No</td>\n",
       "      <td>Yes</td>\n",
       "      <td>Yes</td>\n",
       "      <td>Yes</td>\n",
       "      <td>No</td>\n",
       "      <td>Yes</td>\n",
       "      <td>No</td>\n",
       "      <td>Yes</td>\n",
       "      <td>Yes</td>\n",
       "      <td>No</td>\n",
       "      <td>No</td>\n",
       "      <td>Yes</td>\n",
       "      <td>Yes</td>\n",
       "      <td>Yes</td>\n",
       "      <td>Yes</td>\n",
       "      <td>No</td>\n",
       "      <td>No</td>\n",
       "      <td>No</td>\n",
       "    </tr>\n",
       "  </tbody>\n",
       "</table>\n",
       "</div>"
      ],
      "text/plain": [
       "  Breathing Problem Fever Dry Cough Sore throat Running Nose Asthma  \\\n",
       "0                No   Yes       Yes         Yes          Yes    Yes   \n",
       "1               Yes   Yes       Yes         Yes           No     No   \n",
       "2                No    No        No          No           No     No   \n",
       "3               Yes   Yes       Yes         Yes          Yes    Yes   \n",
       "4                No    No        No          No          Yes    Yes   \n",
       "\n",
       "  Chronic Lung Disease Headache Heart Disease Diabetes Hyper Tension Fatigue   \\\n",
       "0                  Yes       No           Yes      Yes           Yes       No   \n",
       "1                   No       No           Yes      Yes           Yes      Yes   \n",
       "2                  Yes      Yes            No       No            No      Yes   \n",
       "3                  Yes       No            No       No           Yes      Yes   \n",
       "4                  Yes       No           Yes       No           Yes      Yes   \n",
       "\n",
       "  Gastrointestinal  Abroad travel Contact with COVID Patient  \\\n",
       "0               Yes            No                         No   \n",
       "1                No            No                        Yes   \n",
       "2               Yes            No                         No   \n",
       "3               Yes           Yes                         No   \n",
       "4                No            No                        Yes   \n",
       "\n",
       "  Attended Large Gathering Visited Public Exposed Places  \\\n",
       "0                       No                            No   \n",
       "1                       No                           Yes   \n",
       "2                       No                            No   \n",
       "3                      Yes                           Yes   \n",
       "4                      Yes                           Yes   \n",
       "\n",
       "  Family working in Public Exposed Places Wearing Masks  \\\n",
       "0                                      No            No   \n",
       "1                                     Yes            No   \n",
       "2                                      No            No   \n",
       "3                                      No            No   \n",
       "4                                     Yes            No   \n",
       "\n",
       "  Sanitization from Market COVID-19  \n",
       "0                       No      Yes  \n",
       "1                       No      Yes  \n",
       "2                       No       No  \n",
       "3                       No      Yes  \n",
       "4                       No       No  "
      ]
     },
     "execution_count": 5,
     "metadata": {},
     "output_type": "execute_result"
    }
   ],
   "source": [
    "import pandas as pd\n",
    "pd.set_option('display.max_columns', None)\n",
    "\n",
    "\n",
    "raw_data = pd.read_excel('./raw.xlsx')\n",
    "\n",
    "raw_data.head()"
   ]
  },
  {
   "cell_type": "markdown",
   "metadata": {},
   "source": [
    "# <u><b>DATASET EXPLORATION</b></u>"
   ]
  },
  {
   "cell_type": "markdown",
   "metadata": {},
   "source": [
    "> General description of dataset."
   ]
  },
  {
   "cell_type": "code",
   "execution_count": 6,
   "metadata": {},
   "outputs": [
    {
     "name": "stdout",
     "output_type": "stream",
     "text": [
      "<class 'pandas.core.frame.DataFrame'>\n",
      "RangeIndex: 5434 entries, 0 to 5433\n",
      "Data columns (total 21 columns):\n",
      " #   Column                                   Non-Null Count  Dtype \n",
      "---  ------                                   --------------  ----- \n",
      " 0   Breathing Problem                        5434 non-null   object\n",
      " 1   Fever                                    5434 non-null   object\n",
      " 2   Dry Cough                                5434 non-null   object\n",
      " 3   Sore throat                              5434 non-null   object\n",
      " 4   Running Nose                             5434 non-null   object\n",
      " 5   Asthma                                   5434 non-null   object\n",
      " 6   Chronic Lung Disease                     5434 non-null   object\n",
      " 7   Headache                                 5434 non-null   object\n",
      " 8   Heart Disease                            5434 non-null   object\n",
      " 9   Diabetes                                 5434 non-null   object\n",
      " 10  Hyper Tension                            5434 non-null   object\n",
      " 11  Fatigue                                  5434 non-null   object\n",
      " 12  Gastrointestinal                         5434 non-null   object\n",
      " 13  Abroad travel                            5434 non-null   object\n",
      " 14  Contact with COVID Patient               5434 non-null   object\n",
      " 15  Attended Large Gathering                 5434 non-null   object\n",
      " 16  Visited Public Exposed Places            5434 non-null   object\n",
      " 17  Family working in Public Exposed Places  5434 non-null   object\n",
      " 18  Wearing Masks                            5434 non-null   object\n",
      " 19  Sanitization from Market                 5434 non-null   object\n",
      " 20  COVID-19                                 5434 non-null   object\n",
      "dtypes: object(21)\n",
      "memory usage: 891.6+ KB\n"
     ]
    }
   ],
   "source": [
    "raw_data.info()"
   ]
  },
  {
   "cell_type": "code",
   "execution_count": 7,
   "metadata": {},
   "outputs": [
    {
     "data": {
      "text/html": [
       "<div>\n",
       "<style scoped>\n",
       "    .dataframe tbody tr th:only-of-type {\n",
       "        vertical-align: middle;\n",
       "    }\n",
       "\n",
       "    .dataframe tbody tr th {\n",
       "        vertical-align: top;\n",
       "    }\n",
       "\n",
       "    .dataframe thead th {\n",
       "        text-align: right;\n",
       "    }\n",
       "</style>\n",
       "<table border=\"1\" class=\"dataframe\">\n",
       "  <thead>\n",
       "    <tr style=\"text-align: right;\">\n",
       "      <th></th>\n",
       "      <th>Breathing Problem</th>\n",
       "      <th>Fever</th>\n",
       "      <th>Dry Cough</th>\n",
       "      <th>Sore throat</th>\n",
       "      <th>Running Nose</th>\n",
       "      <th>Asthma</th>\n",
       "      <th>Chronic Lung Disease</th>\n",
       "      <th>Headache</th>\n",
       "      <th>Heart Disease</th>\n",
       "      <th>Diabetes</th>\n",
       "      <th>Hyper Tension</th>\n",
       "      <th>Fatigue</th>\n",
       "      <th>Gastrointestinal</th>\n",
       "      <th>Abroad travel</th>\n",
       "      <th>Contact with COVID Patient</th>\n",
       "      <th>Attended Large Gathering</th>\n",
       "      <th>Visited Public Exposed Places</th>\n",
       "      <th>Family working in Public Exposed Places</th>\n",
       "      <th>Wearing Masks</th>\n",
       "      <th>Sanitization from Market</th>\n",
       "      <th>COVID-19</th>\n",
       "    </tr>\n",
       "  </thead>\n",
       "  <tbody>\n",
       "    <tr>\n",
       "      <th>count</th>\n",
       "      <td>5434</td>\n",
       "      <td>5434</td>\n",
       "      <td>5434</td>\n",
       "      <td>5434</td>\n",
       "      <td>5434</td>\n",
       "      <td>5434</td>\n",
       "      <td>5434</td>\n",
       "      <td>5434</td>\n",
       "      <td>5434</td>\n",
       "      <td>5434</td>\n",
       "      <td>5434</td>\n",
       "      <td>5434</td>\n",
       "      <td>5434</td>\n",
       "      <td>5434</td>\n",
       "      <td>5434</td>\n",
       "      <td>5434</td>\n",
       "      <td>5434</td>\n",
       "      <td>5434</td>\n",
       "      <td>5434</td>\n",
       "      <td>5434</td>\n",
       "      <td>5434</td>\n",
       "    </tr>\n",
       "    <tr>\n",
       "      <th>unique</th>\n",
       "      <td>2</td>\n",
       "      <td>2</td>\n",
       "      <td>2</td>\n",
       "      <td>2</td>\n",
       "      <td>2</td>\n",
       "      <td>2</td>\n",
       "      <td>2</td>\n",
       "      <td>3</td>\n",
       "      <td>4</td>\n",
       "      <td>3</td>\n",
       "      <td>2</td>\n",
       "      <td>3</td>\n",
       "      <td>3</td>\n",
       "      <td>3</td>\n",
       "      <td>4</td>\n",
       "      <td>2</td>\n",
       "      <td>2</td>\n",
       "      <td>3</td>\n",
       "      <td>1</td>\n",
       "      <td>1</td>\n",
       "      <td>2</td>\n",
       "    </tr>\n",
       "    <tr>\n",
       "      <th>top</th>\n",
       "      <td>Yes</td>\n",
       "      <td>Yes</td>\n",
       "      <td>Yes</td>\n",
       "      <td>Yes</td>\n",
       "      <td>Yes</td>\n",
       "      <td>No</td>\n",
       "      <td>No</td>\n",
       "      <td>Yes</td>\n",
       "      <td>No</td>\n",
       "      <td>No</td>\n",
       "      <td>No</td>\n",
       "      <td>Yes</td>\n",
       "      <td>No</td>\n",
       "      <td>No</td>\n",
       "      <td>Yes</td>\n",
       "      <td>No</td>\n",
       "      <td>Yes</td>\n",
       "      <td>No</td>\n",
       "      <td>No</td>\n",
       "      <td>No</td>\n",
       "      <td>Yes</td>\n",
       "    </tr>\n",
       "    <tr>\n",
       "      <th>freq</th>\n",
       "      <td>3620</td>\n",
       "      <td>4273</td>\n",
       "      <td>4307</td>\n",
       "      <td>3953</td>\n",
       "      <td>2952</td>\n",
       "      <td>2920</td>\n",
       "      <td>2869</td>\n",
       "      <td>2736</td>\n",
       "      <td>2907</td>\n",
       "      <td>2846</td>\n",
       "      <td>2771</td>\n",
       "      <td>2820</td>\n",
       "      <td>2883</td>\n",
       "      <td>2982</td>\n",
       "      <td>2723</td>\n",
       "      <td>2924</td>\n",
       "      <td>2820</td>\n",
       "      <td>3169</td>\n",
       "      <td>5434</td>\n",
       "      <td>5434</td>\n",
       "      <td>4383</td>\n",
       "    </tr>\n",
       "  </tbody>\n",
       "</table>\n",
       "</div>"
      ],
      "text/plain": [
       "       Breathing Problem Fever Dry Cough Sore throat Running Nose Asthma  \\\n",
       "count               5434  5434      5434        5434         5434   5434   \n",
       "unique                 2     2         2           2            2      2   \n",
       "top                  Yes   Yes       Yes         Yes          Yes     No   \n",
       "freq                3620  4273      4307        3953         2952   2920   \n",
       "\n",
       "       Chronic Lung Disease Headache Heart Disease Diabetes Hyper Tension  \\\n",
       "count                  5434     5434          5434     5434          5434   \n",
       "unique                    2        3             4        3             2   \n",
       "top                      No      Yes            No       No            No   \n",
       "freq                   2869     2736          2907     2846          2771   \n",
       "\n",
       "       Fatigue  Gastrointestinal  Abroad travel Contact with COVID Patient  \\\n",
       "count      5434              5434          5434                       5434   \n",
       "unique        3                 3             3                          4   \n",
       "top         Yes                No            No                        Yes   \n",
       "freq       2820              2883          2982                       2723   \n",
       "\n",
       "       Attended Large Gathering Visited Public Exposed Places  \\\n",
       "count                      5434                          5434   \n",
       "unique                        2                             2   \n",
       "top                          No                           Yes   \n",
       "freq                       2924                          2820   \n",
       "\n",
       "       Family working in Public Exposed Places Wearing Masks  \\\n",
       "count                                     5434          5434   \n",
       "unique                                       3             1   \n",
       "top                                         No            No   \n",
       "freq                                      3169          5434   \n",
       "\n",
       "       Sanitization from Market COVID-19  \n",
       "count                      5434     5434  \n",
       "unique                        1        2  \n",
       "top                          No      Yes  \n",
       "freq                       5434     4383  "
      ]
     },
     "execution_count": 7,
     "metadata": {},
     "output_type": "execute_result"
    }
   ],
   "source": [
    "raw_data.describe()"
   ]
  },
  {
   "cell_type": "markdown",
   "metadata": {},
   "source": [
    "Some interesting properties can be gleamed from `info` and `describe`, and will be investigated further."
   ]
  },
  {
   "cell_type": "markdown",
   "metadata": {},
   "source": [
    "> Check for missing data."
   ]
  },
  {
   "cell_type": "code",
   "execution_count": 8,
   "metadata": {},
   "outputs": [
    {
     "name": "stdout",
     "output_type": "stream",
     "text": [
      "Missing data counts:\n"
     ]
    },
    {
     "data": {
      "text/plain": [
       "Breathing Problem                          0\n",
       "Fever                                      0\n",
       "Dry Cough                                  0\n",
       "Sore throat                                0\n",
       "Running Nose                               0\n",
       "Asthma                                     0\n",
       "Chronic Lung Disease                       0\n",
       "Headache                                   0\n",
       "Heart Disease                              0\n",
       "Diabetes                                   0\n",
       "Hyper Tension                              0\n",
       "Fatigue                                    0\n",
       "Gastrointestinal                           0\n",
       "Abroad travel                              0\n",
       "Contact with COVID Patient                 0\n",
       "Attended Large Gathering                   0\n",
       "Visited Public Exposed Places              0\n",
       "Family working in Public Exposed Places    0\n",
       "Wearing Masks                              0\n",
       "Sanitization from Market                   0\n",
       "COVID-19                                   0\n",
       "dtype: int64"
      ]
     },
     "execution_count": 8,
     "metadata": {},
     "output_type": "execute_result"
    }
   ],
   "source": [
    "print('Missing data counts:')\n",
    "raw_data.isna().sum()"
   ]
  },
  {
   "cell_type": "markdown",
   "metadata": {},
   "source": [
    "Output suggests no missing data."
   ]
  },
  {
   "cell_type": "markdown",
   "metadata": {},
   "source": [
    "> List down unique values by column."
   ]
  },
  {
   "cell_type": "code",
   "execution_count": 9,
   "metadata": {},
   "outputs": [
    {
     "name": "stdout",
     "output_type": "stream",
     "text": [
      "Breathing Problem: ['No' 'Yes']\n",
      "Fever: ['Yes' 'No']\n",
      "Dry Cough: ['Yes' 'No']\n",
      "Sore throat: ['Yes' 'No']\n",
      "Running Nose: ['Yes' 'No']\n",
      "Asthma: ['Yes' 'No']\n",
      "Chronic Lung Disease: ['Yes' 'No']\n",
      "Headache: ['No' 'Yes' 'NOT']\n",
      "Heart Disease: ['Yes' 'No' 0 1]\n",
      "Diabetes: ['Yes' 'No' 'YE']\n",
      "Hyper Tension: ['Yes' 'No']\n",
      "Fatigue : ['No' 'Yes' 'YE']\n",
      "Gastrointestinal : ['Yes' 'No' 'YE']\n",
      "Abroad travel: ['No' 'Yes' 'NOT']\n",
      "Contact with COVID Patient: ['No' 'Yes' 1 'NOT']\n",
      "Attended Large Gathering: ['No' 'Yes']\n",
      "Visited Public Exposed Places: ['No' 'Yes']\n",
      "Family working in Public Exposed Places: ['No' 'Yes' 0]\n",
      "Wearing Masks: ['No']\n",
      "Sanitization from Market: ['No']\n",
      "COVID-19: ['Yes' 'No']\n"
     ]
    }
   ],
   "source": [
    "for col in raw_data.columns:\n",
    "    print(f'{col}: {pd.unique(raw_data[col])}')"
   ]
  },
  {
   "cell_type": "markdown",
   "metadata": {},
   "source": [
    "Output suggests all columns are binary categories, and are mostly `string` with a few small exceptions.<br>\n",
    "* The following columns contain some dirty values: <br>\n",
    " `Headache`, `Heart Disease`, `Diabetes`, `Fatigue`, `Gastrointestinal`, `Abroad travel`, `Contact with COVID Patient`, `Family working in Public Exposed Places`\n",
    "* The following columns have only one value: <br>\n",
    "`Wearing Masks`, `Sanitization from Market`"
   ]
  },
  {
   "cell_type": "markdown",
   "metadata": {},
   "source": [
    "# <u><b>DATA CLEANING</b></u>"
   ]
  },
  {
   "cell_type": "markdown",
   "metadata": {},
   "source": [
    "### _Data Encoding_"
   ]
  },
  {
   "cell_type": "markdown",
   "metadata": {},
   "source": [
    "With the dataset generally understood, the next step is to perform encoding: in this case, binary encoding will suffice. The dataset will be converted into a purely numerical form, with the following encoding scheme. <br>\n",
    "`\"No\", \"NOT\", \"0\" → 0` <br>\n",
    "`\"Yes\", \"YE\", \"1\" → 1` <br>\n",
    "\n",
    "Additionally, column names will be shortened for simpler reference."
   ]
  },
  {
   "cell_type": "markdown",
   "metadata": {},
   "source": [
    "\n",
    "> Begin encoding process."
   ]
  },
  {
   "cell_type": "code",
   "execution_count": 10,
   "metadata": {},
   "outputs": [],
   "source": [
    "import numpy as np\n",
    "\n",
    "new_colnames = ['b_problem','fever','d_cough','s_throat','r_nose','asthma','l_disease','headache','h_disease','diabetes','h_tension','fatigue','g_intes','a_travel','p_contact','l_gather','e_places_v','e_places_f', 'w_masks', 's_market', 'target']\n",
    "encoded = pd.DataFrame(columns=new_colnames)\n",
    "\n",
    "# for every column in columns of old dataframe\n",
    "for k, original_colname in enumerate(raw_data.columns):\n",
    "    # if old data contains a \"Y\" or \"1\", enter 1 into new dataframe. else, enter 0\n",
    "    encoded[new_colnames[k]] = np.where(raw_data[original_colname].str.startswith((\"Y\", \"1\")), 1, 0)"
   ]
  },
  {
   "cell_type": "markdown",
   "metadata": {},
   "source": [
    "> Check for anomalies in new `encoded` dataframe."
   ]
  },
  {
   "cell_type": "code",
   "execution_count": 11,
   "metadata": {},
   "outputs": [
    {
     "name": "stdout",
     "output_type": "stream",
     "text": [
      "<class 'pandas.core.frame.DataFrame'>\n",
      "RangeIndex: 5434 entries, 0 to 5433\n",
      "Data columns (total 21 columns):\n",
      " #   Column      Non-Null Count  Dtype\n",
      "---  ------      --------------  -----\n",
      " 0   b_problem   5434 non-null   int32\n",
      " 1   fever       5434 non-null   int32\n",
      " 2   d_cough     5434 non-null   int32\n",
      " 3   s_throat    5434 non-null   int32\n",
      " 4   r_nose      5434 non-null   int32\n",
      " 5   asthma      5434 non-null   int32\n",
      " 6   l_disease   5434 non-null   int32\n",
      " 7   headache    5434 non-null   int32\n",
      " 8   h_disease   5434 non-null   int32\n",
      " 9   diabetes    5434 non-null   int32\n",
      " 10  h_tension   5434 non-null   int32\n",
      " 11  fatigue     5434 non-null   int32\n",
      " 12  g_intes     5434 non-null   int32\n",
      " 13  a_travel    5434 non-null   int32\n",
      " 14  p_contact   5434 non-null   int32\n",
      " 15  l_gather    5434 non-null   int32\n",
      " 16  e_places_v  5434 non-null   int32\n",
      " 17  e_places_f  5434 non-null   int32\n",
      " 18  w_masks     5434 non-null   int32\n",
      " 19  s_market    5434 non-null   int32\n",
      " 20  target      5434 non-null   int32\n",
      "dtypes: int32(21)\n",
      "memory usage: 445.9 KB\n"
     ]
    }
   ],
   "source": [
    "encoded.info()"
   ]
  },
  {
   "cell_type": "code",
   "execution_count": 12,
   "metadata": {},
   "outputs": [
    {
     "data": {
      "text/html": [
       "<div>\n",
       "<style scoped>\n",
       "    .dataframe tbody tr th:only-of-type {\n",
       "        vertical-align: middle;\n",
       "    }\n",
       "\n",
       "    .dataframe tbody tr th {\n",
       "        vertical-align: top;\n",
       "    }\n",
       "\n",
       "    .dataframe thead th {\n",
       "        text-align: right;\n",
       "    }\n",
       "</style>\n",
       "<table border=\"1\" class=\"dataframe\">\n",
       "  <thead>\n",
       "    <tr style=\"text-align: right;\">\n",
       "      <th></th>\n",
       "      <th>b_problem</th>\n",
       "      <th>fever</th>\n",
       "      <th>d_cough</th>\n",
       "      <th>s_throat</th>\n",
       "      <th>r_nose</th>\n",
       "      <th>asthma</th>\n",
       "      <th>l_disease</th>\n",
       "      <th>headache</th>\n",
       "      <th>h_disease</th>\n",
       "      <th>diabetes</th>\n",
       "      <th>h_tension</th>\n",
       "      <th>fatigue</th>\n",
       "      <th>g_intes</th>\n",
       "      <th>a_travel</th>\n",
       "      <th>p_contact</th>\n",
       "      <th>l_gather</th>\n",
       "      <th>e_places_v</th>\n",
       "      <th>e_places_f</th>\n",
       "      <th>w_masks</th>\n",
       "      <th>s_market</th>\n",
       "      <th>target</th>\n",
       "    </tr>\n",
       "  </thead>\n",
       "  <tbody>\n",
       "    <tr>\n",
       "      <th>count</th>\n",
       "      <td>5434.000000</td>\n",
       "      <td>5434.000000</td>\n",
       "      <td>5434.000000</td>\n",
       "      <td>5434.000000</td>\n",
       "      <td>5434.000000</td>\n",
       "      <td>5434.000000</td>\n",
       "      <td>5434.000000</td>\n",
       "      <td>5434.000000</td>\n",
       "      <td>5434.000000</td>\n",
       "      <td>5434.000000</td>\n",
       "      <td>5434.000000</td>\n",
       "      <td>5434.000000</td>\n",
       "      <td>5434.000000</td>\n",
       "      <td>5434.000000</td>\n",
       "      <td>5434.000000</td>\n",
       "      <td>5434.000000</td>\n",
       "      <td>5434.000000</td>\n",
       "      <td>5434.000000</td>\n",
       "      <td>5434.0</td>\n",
       "      <td>5434.0</td>\n",
       "      <td>5434.000000</td>\n",
       "    </tr>\n",
       "    <tr>\n",
       "      <th>mean</th>\n",
       "      <td>0.666176</td>\n",
       "      <td>0.786345</td>\n",
       "      <td>0.792602</td>\n",
       "      <td>0.727457</td>\n",
       "      <td>0.543246</td>\n",
       "      <td>0.462643</td>\n",
       "      <td>0.472028</td>\n",
       "      <td>0.503497</td>\n",
       "      <td>0.465035</td>\n",
       "      <td>0.476261</td>\n",
       "      <td>0.490063</td>\n",
       "      <td>0.519139</td>\n",
       "      <td>0.469452</td>\n",
       "      <td>0.451049</td>\n",
       "      <td>0.501656</td>\n",
       "      <td>0.461907</td>\n",
       "      <td>0.518955</td>\n",
       "      <td>0.416820</td>\n",
       "      <td>0.0</td>\n",
       "      <td>0.0</td>\n",
       "      <td>0.806588</td>\n",
       "    </tr>\n",
       "    <tr>\n",
       "      <th>std</th>\n",
       "      <td>0.471621</td>\n",
       "      <td>0.409924</td>\n",
       "      <td>0.405480</td>\n",
       "      <td>0.445309</td>\n",
       "      <td>0.498172</td>\n",
       "      <td>0.498648</td>\n",
       "      <td>0.499263</td>\n",
       "      <td>0.500034</td>\n",
       "      <td>0.498822</td>\n",
       "      <td>0.499482</td>\n",
       "      <td>0.499947</td>\n",
       "      <td>0.499680</td>\n",
       "      <td>0.499112</td>\n",
       "      <td>0.497644</td>\n",
       "      <td>0.500043</td>\n",
       "      <td>0.498593</td>\n",
       "      <td>0.499687</td>\n",
       "      <td>0.493078</td>\n",
       "      <td>0.0</td>\n",
       "      <td>0.0</td>\n",
       "      <td>0.395009</td>\n",
       "    </tr>\n",
       "  </tbody>\n",
       "</table>\n",
       "</div>"
      ],
      "text/plain": [
       "         b_problem        fever      d_cough     s_throat       r_nose  \\\n",
       "count  5434.000000  5434.000000  5434.000000  5434.000000  5434.000000   \n",
       "mean      0.666176     0.786345     0.792602     0.727457     0.543246   \n",
       "std       0.471621     0.409924     0.405480     0.445309     0.498172   \n",
       "\n",
       "            asthma    l_disease     headache    h_disease     diabetes  \\\n",
       "count  5434.000000  5434.000000  5434.000000  5434.000000  5434.000000   \n",
       "mean      0.462643     0.472028     0.503497     0.465035     0.476261   \n",
       "std       0.498648     0.499263     0.500034     0.498822     0.499482   \n",
       "\n",
       "         h_tension      fatigue      g_intes     a_travel    p_contact  \\\n",
       "count  5434.000000  5434.000000  5434.000000  5434.000000  5434.000000   \n",
       "mean      0.490063     0.519139     0.469452     0.451049     0.501656   \n",
       "std       0.499947     0.499680     0.499112     0.497644     0.500043   \n",
       "\n",
       "          l_gather   e_places_v   e_places_f  w_masks  s_market       target  \n",
       "count  5434.000000  5434.000000  5434.000000   5434.0    5434.0  5434.000000  \n",
       "mean      0.461907     0.518955     0.416820      0.0       0.0     0.806588  \n",
       "std       0.498593     0.499687     0.493078      0.0       0.0     0.395009  "
      ]
     },
     "execution_count": 12,
     "metadata": {},
     "output_type": "execute_result"
    }
   ],
   "source": [
    "encoded.describe()[:3]"
   ]
  },
  {
   "cell_type": "code",
   "execution_count": 13,
   "metadata": {},
   "outputs": [
    {
     "data": {
      "text/html": [
       "<div>\n",
       "<style scoped>\n",
       "    .dataframe tbody tr th:only-of-type {\n",
       "        vertical-align: middle;\n",
       "    }\n",
       "\n",
       "    .dataframe tbody tr th {\n",
       "        vertical-align: top;\n",
       "    }\n",
       "\n",
       "    .dataframe thead th {\n",
       "        text-align: right;\n",
       "    }\n",
       "</style>\n",
       "<table border=\"1\" class=\"dataframe\">\n",
       "  <thead>\n",
       "    <tr style=\"text-align: right;\">\n",
       "      <th></th>\n",
       "      <th>b_problem</th>\n",
       "      <th>fever</th>\n",
       "      <th>d_cough</th>\n",
       "      <th>s_throat</th>\n",
       "      <th>r_nose</th>\n",
       "      <th>asthma</th>\n",
       "      <th>l_disease</th>\n",
       "      <th>headache</th>\n",
       "      <th>h_disease</th>\n",
       "      <th>diabetes</th>\n",
       "      <th>h_tension</th>\n",
       "      <th>fatigue</th>\n",
       "      <th>g_intes</th>\n",
       "      <th>a_travel</th>\n",
       "      <th>p_contact</th>\n",
       "      <th>l_gather</th>\n",
       "      <th>e_places_v</th>\n",
       "      <th>e_places_f</th>\n",
       "      <th>w_masks</th>\n",
       "      <th>s_market</th>\n",
       "      <th>target</th>\n",
       "    </tr>\n",
       "  </thead>\n",
       "  <tbody>\n",
       "    <tr>\n",
       "      <th>0</th>\n",
       "      <td>0</td>\n",
       "      <td>1</td>\n",
       "      <td>1</td>\n",
       "      <td>1</td>\n",
       "      <td>1</td>\n",
       "      <td>1</td>\n",
       "      <td>1</td>\n",
       "      <td>0</td>\n",
       "      <td>1</td>\n",
       "      <td>1</td>\n",
       "      <td>1</td>\n",
       "      <td>0</td>\n",
       "      <td>1</td>\n",
       "      <td>0</td>\n",
       "      <td>0</td>\n",
       "      <td>0</td>\n",
       "      <td>0</td>\n",
       "      <td>0</td>\n",
       "      <td>0</td>\n",
       "      <td>0</td>\n",
       "      <td>1</td>\n",
       "    </tr>\n",
       "    <tr>\n",
       "      <th>1</th>\n",
       "      <td>1</td>\n",
       "      <td>1</td>\n",
       "      <td>1</td>\n",
       "      <td>1</td>\n",
       "      <td>0</td>\n",
       "      <td>0</td>\n",
       "      <td>0</td>\n",
       "      <td>0</td>\n",
       "      <td>1</td>\n",
       "      <td>1</td>\n",
       "      <td>1</td>\n",
       "      <td>1</td>\n",
       "      <td>0</td>\n",
       "      <td>0</td>\n",
       "      <td>1</td>\n",
       "      <td>0</td>\n",
       "      <td>1</td>\n",
       "      <td>1</td>\n",
       "      <td>0</td>\n",
       "      <td>0</td>\n",
       "      <td>1</td>\n",
       "    </tr>\n",
       "    <tr>\n",
       "      <th>2</th>\n",
       "      <td>0</td>\n",
       "      <td>0</td>\n",
       "      <td>0</td>\n",
       "      <td>0</td>\n",
       "      <td>0</td>\n",
       "      <td>0</td>\n",
       "      <td>1</td>\n",
       "      <td>1</td>\n",
       "      <td>0</td>\n",
       "      <td>0</td>\n",
       "      <td>0</td>\n",
       "      <td>1</td>\n",
       "      <td>1</td>\n",
       "      <td>0</td>\n",
       "      <td>0</td>\n",
       "      <td>0</td>\n",
       "      <td>0</td>\n",
       "      <td>0</td>\n",
       "      <td>0</td>\n",
       "      <td>0</td>\n",
       "      <td>0</td>\n",
       "    </tr>\n",
       "    <tr>\n",
       "      <th>3</th>\n",
       "      <td>1</td>\n",
       "      <td>1</td>\n",
       "      <td>1</td>\n",
       "      <td>1</td>\n",
       "      <td>1</td>\n",
       "      <td>1</td>\n",
       "      <td>1</td>\n",
       "      <td>0</td>\n",
       "      <td>0</td>\n",
       "      <td>0</td>\n",
       "      <td>1</td>\n",
       "      <td>1</td>\n",
       "      <td>1</td>\n",
       "      <td>1</td>\n",
       "      <td>0</td>\n",
       "      <td>1</td>\n",
       "      <td>1</td>\n",
       "      <td>0</td>\n",
       "      <td>0</td>\n",
       "      <td>0</td>\n",
       "      <td>1</td>\n",
       "    </tr>\n",
       "    <tr>\n",
       "      <th>4</th>\n",
       "      <td>0</td>\n",
       "      <td>0</td>\n",
       "      <td>0</td>\n",
       "      <td>0</td>\n",
       "      <td>1</td>\n",
       "      <td>1</td>\n",
       "      <td>1</td>\n",
       "      <td>0</td>\n",
       "      <td>1</td>\n",
       "      <td>0</td>\n",
       "      <td>1</td>\n",
       "      <td>1</td>\n",
       "      <td>0</td>\n",
       "      <td>0</td>\n",
       "      <td>1</td>\n",
       "      <td>1</td>\n",
       "      <td>1</td>\n",
       "      <td>1</td>\n",
       "      <td>0</td>\n",
       "      <td>0</td>\n",
       "      <td>0</td>\n",
       "    </tr>\n",
       "  </tbody>\n",
       "</table>\n",
       "</div>"
      ],
      "text/plain": [
       "   b_problem  fever  d_cough  s_throat  r_nose  asthma  l_disease  headache  \\\n",
       "0          0      1        1         1       1       1          1         0   \n",
       "1          1      1        1         1       0       0          0         0   \n",
       "2          0      0        0         0       0       0          1         1   \n",
       "3          1      1        1         1       1       1          1         0   \n",
       "4          0      0        0         0       1       1          1         0   \n",
       "\n",
       "   h_disease  diabetes  h_tension  fatigue  g_intes  a_travel  p_contact  \\\n",
       "0          1         1          1        0        1         0          0   \n",
       "1          1         1          1        1        0         0          1   \n",
       "2          0         0          0        1        1         0          0   \n",
       "3          0         0          1        1        1         1          0   \n",
       "4          1         0          1        1        0         0          1   \n",
       "\n",
       "   l_gather  e_places_v  e_places_f  w_masks  s_market  target  \n",
       "0         0           0           0        0         0       1  \n",
       "1         0           1           1        0         0       1  \n",
       "2         0           0           0        0         0       0  \n",
       "3         1           1           0        0         0       1  \n",
       "4         1           1           1        0         0       0  "
      ]
     },
     "execution_count": 13,
     "metadata": {},
     "output_type": "execute_result"
    }
   ],
   "source": [
    "encoded.head()"
   ]
  },
  {
   "cell_type": "markdown",
   "metadata": {},
   "source": [
    "No apparent anomalies caused by the encoding process are found."
   ]
  },
  {
   "cell_type": "markdown",
   "metadata": {},
   "source": [
    "### _Feature Selection_"
   ]
  },
  {
   "cell_type": "markdown",
   "metadata": {},
   "source": [
    "At this point, the data is clean enough to be worked on. However, to further understand it, each column will be plotted to understand the distribution of data: particularly skewness, variance, standard deviation, etc."
   ]
  },
  {
   "cell_type": "markdown",
   "metadata": {},
   "source": [
    "> Plot counts of each column's observation to study distribution."
   ]
  },
  {
   "cell_type": "code",
   "execution_count": 14,
   "metadata": {},
   "outputs": [
    {
     "data": {
      "text/plain": [
       "<matplotlib.legend.Legend at 0x1bb99ec50d0>"
      ]
     },
     "execution_count": 14,
     "metadata": {},
     "output_type": "execute_result"
    },
    {
     "data": {
      "image/png": "[encoded data removed]",
      "text/plain": [
       "<Figure size 864x576 with 1 Axes>"
      ]
     },
     "metadata": {
      "needs_background": "light"
     },
     "output_type": "display_data"
    }
   ],
   "source": [
    "import matplotlib.pyplot as plt\n",
    "\n",
    "counts = pd.DataFrame(columns=[1, 0])\n",
    "\n",
    "for col in encoded.columns:\n",
    "    dict_count = dict(encoded[col].value_counts())  # returns as count of observations e.g {1: 100, 0: 125}\n",
    "\n",
    "    counts.loc[col, :] = dict_count\n",
    "\n",
    "counts.plot.bar(stacked=True, figsize=(12,8))\n",
    "plt.axhline(y=encoded.shape[0]/2, color = 'g', linestyle=':')\n",
    "plt.legend(['50%', 'True', 'False'], loc=8)"
   ]
  },
  {
   "cell_type": "markdown",
   "metadata": {},
   "source": [
    "Key points to be gleaned:\n",
    "1.\tTwo columns w_masks and s_market comprise 100% of False observations.\n",
    "2.\tMost columns show a near 50-50 split.\n",
    "3.\t`target` is highly imbalanced with around 80% being True observations.\n",
    "\n",
    "These key points will be important for feature selection, model training and evaluation.\n",
    "\n",
    " \n",
    "Feature selection will be limited to dropping the two zero-variance columns mentioned above."
   ]
  },
  {
   "cell_type": "markdown",
   "metadata": {},
   "source": [
    "> Drop zero-variance columns."
   ]
  },
  {
   "cell_type": "code",
   "execution_count": 15,
   "metadata": {},
   "outputs": [],
   "source": [
    "final = encoded.drop(['w_masks','s_market'], axis=1)"
   ]
  },
  {
   "cell_type": "markdown",
   "metadata": {},
   "source": [
    "select model\n",
    "tts\n",
    "train model\n",
    "metrics"
   ]
  },
  {
   "cell_type": "markdown",
   "metadata": {},
   "source": [
    "# <u><b>MODEL TRAINING</b></u>"
   ]
  },
  {
   "cell_type": "markdown",
   "metadata": {},
   "source": [
    "### _Model Selection_"
   ]
  },
  {
   "cell_type": "markdown",
   "metadata": {},
   "source": [
    "The model to be evaluated is Linear SVC. Other models can be used, but as will be seen, this is probably not necessary. <br>\n",
    "This selection is based on the flowchart detailed in https://scikit-learn.org/stable/tutorial/machine_learning_map/index.html\n",
    "\n",
    "The only hyperparameter that will be optimised is the C value, mostly for simplicity's sake. This will be implemented using `sklearn.model_selection.GridSearchCV` which will exhaustively search through a given grid of hyperparameters to find the best performing one.\n",
    "\n",
    "The given grid in our case is a list of 100 values for our C hyperparameter. These values are within the range [1e-06, 1e3], spaced out logarithmically on base 10. "
   ]
  },
  {
   "cell_type": "markdown",
   "metadata": {},
   "source": [
    "### _Model Evaluation_"
   ]
  },
  {
   "cell_type": "markdown",
   "metadata": {},
   "source": [
    "To select the model, we will evaluate each model using a weighted f1 score as our primary metric. <br><br>\n",
    "\n",
    "An F1 score is the harmonic of both precision and recall, thus being a good reference for overall accuracy. However, it can be improved further by weighting more towards recall than precision.\n",
    "\n",
    "Recall is used to evaluate false negatives specifically. In this current context, a false negative represents a sick patient predicted as being healthy, which is a situation that should be avoided as best as possible. Recall is useful in this regard. However, relying on recall only may cause our models to over-estimate and predict too many positive cases, whether true or otherwise. This will be countered by considering precision as well through the f1 score.\n",
    "\n",
    "This weighted f1 score will be calculated using `sklearn.metrics.fbeta_score`, which applies a $\\beta$ weight representing how much more important recall is over precision. The $\\beta$ used here will be arbitrarily chosen; though in practical use, would be determined by domain experts.\n",
    "<br><br>\n",
    "This metric will be used in optimisation, and in final evaluation."
   ]
  },
  {
   "cell_type": "markdown",
   "metadata": {},
   "source": [
    "> Run optimisation algorithm to find best-performing hyperparameters."
   ]
  },
  {
   "cell_type": "code",
   "execution_count": 16,
   "metadata": {},
   "outputs": [
    {
     "name": "stdout",
     "output_type": "stream",
     "text": [
      "Optimisation results:\n",
      "C\t: 0.004328761281083062\n",
      "fbeta\t: 0.9897404948702475\n"
     ]
    }
   ],
   "source": [
    "from sklearn.svm import LinearSVC\n",
    "from sklearn.model_selection import train_test_split, GridSearchCV\n",
    "\n",
    "from sklearn.metrics import fbeta_score, make_scorer\n",
    "\n",
    "BETA = 2\n",
    "\n",
    "data = final.drop('target', axis=1)\n",
    "target = final.target\n",
    "\n",
    "\n",
    "# create scorer for GridSearchCV\n",
    "f_scorer = make_scorer(fbeta_score, beta=BETA)\n",
    "param_grid = {\n",
    "    'C':  np.logspace(start=-6, stop=3, base=10, num=100)  # generates nparray from 1e-6 to 1e3, spaced out logarithmically\n",
    "}\n",
    "\n",
    "X_train, X_test, y_train, y_test = train_test_split(data, target, test_size=0.3, stratify=target)  # 30% test data split, stratified for target\n",
    "\n",
    "grid = GridSearchCV(LinearSVC(), param_grid=param_grid, scoring=f_scorer, n_jobs = -1)\n",
    "grid.fit(X_train, y_train)\n",
    "y_pred = grid.predict(X_test)\n",
    "result = grid.best_params_\n",
    "result['fbeta'] = fbeta_score(y_test, y_pred, beta=2)\n",
    "\n",
    "print(\"Optimisation results:\")\n",
    "for k, v in result.items():\n",
    "    print(f\"{k}\\t: {v}\")"
   ]
  },
  {
   "cell_type": "markdown",
   "metadata": {},
   "source": [
    "Based on these results, we have identified our optimal C value. For final exaluation, we will train a \"best\" model with this hyperparameter and evaluate it.\n",
    "\n",
    "To minimise sampling bias, we will employ the use of stratified K-Fold cross validation. \n",
    "\n",
    "The key point to be taken here is that SKFCV repeats evaluation on the train-test split multiple times, each containing a ratio of true-false observations equal to the entire dataset. In practice, it prevents samples from containing all False `target` observations, which will introduce bias to the model.\n"
   ]
  },
  {
   "cell_type": "markdown",
   "metadata": {},
   "source": [
    "> Perform final evaluation using SKFCV."
   ]
  },
  {
   "cell_type": "code",
   "execution_count": 24,
   "metadata": {},
   "outputs": [
    {
     "name": "stdout",
     "output_type": "stream",
     "text": [
      "('FOLD0', 'FOLD1')\n"
     ]
    },
    {
     "data": {
      "text/plain": [
       "'There are 2 out of 2 services responded to the ping.'"
      ]
     },
     "execution_count": 24,
     "metadata": {},
     "output_type": "execute_result"
    }
   ],
   "source": [
    "from Client import FoldDistributor\n",
    "\n",
    "best_model = LinearSVC(C=result['C'])\n",
    "\n",
    "num_of_folds = 2\n",
    "\n",
    "skf = FoldDistributor(num_of_folds)\n",
    "skf.ping_services()"
   ]
  },
  {
   "cell_type": "code",
   "execution_count": 25,
   "metadata": {},
   "outputs": [
    {
     "ename": "AttributeError",
     "evalue": "cannot access 'values'\n\n========= Remote Traceback (2) =========\nTraceback (most recent call last):\n  File \"C:\\Users\\ilyas\\AppData\\Roaming\\Python\\Python39\\site-packages\\rpyc\\core\\protocol.py\", line 324, in _dispatch_request\n    res = self._HANDLERS[handler](self, *args)\n  File \"C:\\Users\\ilyas\\AppData\\Roaming\\Python\\Python39\\site-packages\\rpyc\\core\\protocol.py\", line 609, in _handle_call\n    return obj(*args, **dict(kwargs))\n  File \"c:\\Users\\ilyas\\Documents\\.GeneralCode\\py\\dpc\\rpyc-master\\Service.py\", line 40, in exposed_train_on_fold\n    id, default_model, all_data_x, all_data_y, train_index, test_index = requestObject.values()\n  File \"C:\\Users\\ilyas\\AppData\\Roaming\\Python\\Python39\\site-packages\\rpyc\\core\\netref.py\", line 153, in __getattr__\n    return syncreq(self, consts.HANDLE_GETATTR, name)\n  File \"C:\\Users\\ilyas\\AppData\\Roaming\\Python\\Python39\\site-packages\\rpyc\\core\\netref.py\", line 63, in syncreq\n    return conn.sync_request(handler, proxy, *args)\n  File \"C:\\Users\\ilyas\\AppData\\Roaming\\Python\\Python39\\site-packages\\rpyc\\core\\protocol.py\", line 490, in sync_request\n    return _async_res.value\n  File \"C:\\Users\\ilyas\\AppData\\Roaming\\Python\\Python39\\site-packages\\rpyc\\core\\async_.py\", line 108, in value\n    raise self._obj\n_get_exception_class.<locals>.Derived: cannot access 'values'\n\n========= Remote Traceback (1) =========\nTraceback (most recent call last):\n  File \"C:\\Users\\ilyas\\AppData\\Roaming\\Python\\Python39\\site-packages\\rpyc\\core\\protocol.py\", line 324, in _dispatch_request\n    res = self._HANDLERS[handler](self, *args)\n  File \"C:\\Users\\ilyas\\AppData\\Roaming\\Python\\Python39\\site-packages\\rpyc\\core\\protocol.py\", line 625, in _handle_getattr\n    return self._access_attr(obj, name, (), \"_rpyc_getattr\", \"allow_getattr\", getattr)\n  File \"C:\\Users\\ilyas\\AppData\\Roaming\\Python\\Python39\\site-packages\\rpyc\\core\\protocol.py\", line 552, in _access_attr\n    name = self._check_attr(obj, name, param)\n  File \"C:\\Users\\ilyas\\AppData\\Roaming\\Python\\Python39\\site-packages\\rpyc\\core\\protocol.py\", line 542, in _check_attr\n    raise AttributeError(f\"cannot access {name!r}\")\nAttributeError: cannot access 'values'\n\n",
     "output_type": "error",
     "traceback": [
      "\u001b[1;31m---------------------------------------------------------------------------\u001b[0m",
      "\u001b[1;31mAttributeError\u001b[0m                            Traceback (most recent call last)",
      "\u001b[1;32m~\\AppData\\Local\\Temp/ipykernel_4980/2175449321.py\u001b[0m in \u001b[0;36m<module>\u001b[1;34m\u001b[0m\n\u001b[1;32m----> 1\u001b[1;33m \u001b[0maccuracy\u001b[0m \u001b[1;33m=\u001b[0m \u001b[0mskf\u001b[0m\u001b[1;33m.\u001b[0m\u001b[0mdistribute_folds\u001b[0m\u001b[1;33m(\u001b[0m\u001b[0mdata\u001b[0m\u001b[1;33m,\u001b[0m \u001b[0mtarget\u001b[0m\u001b[1;33m,\u001b[0m \u001b[0mbest_model\u001b[0m\u001b[1;33m)\u001b[0m\u001b[1;33m\u001b[0m\u001b[1;33m\u001b[0m\u001b[0m\n\u001b[0m\u001b[0;32m      2\u001b[0m \u001b[1;33m\u001b[0m\u001b[0m\n\u001b[0;32m      3\u001b[0m \u001b[0maccuracy\u001b[0m\u001b[1;33m\u001b[0m\u001b[1;33m\u001b[0m\u001b[0m\n",
      "\u001b[1;32mc:\\Users\\ilyas\\Documents\\.GeneralCode\\py\\dpc\\rpyc-master\\Client.py\u001b[0m in \u001b[0;36mdistribute_folds\u001b[1;34m(self, data, target, model)\u001b[0m\n\u001b[0;32m     48\u001b[0m \u001b[1;33m\u001b[0m\u001b[0m\n\u001b[0;32m     49\u001b[0m             \u001b[1;31m# send request Object and \"await\" reply\u001b[0m\u001b[1;33m\u001b[0m\u001b[1;33m\u001b[0m\u001b[0m\n\u001b[1;32m---> 50\u001b[1;33m             \u001b[0mprint\u001b[0m\u001b[1;33m(\u001b[0m\u001b[0mi\u001b[0m\u001b[1;33m)\u001b[0m\u001b[1;33m\u001b[0m\u001b[1;33m\u001b[0m\u001b[0m\n\u001b[0m\u001b[0;32m     51\u001b[0m             \u001b[0mreplyObj\u001b[0m \u001b[1;33m=\u001b[0m \u001b[0mself\u001b[0m\u001b[1;33m.\u001b[0m\u001b[0mservices\u001b[0m\u001b[1;33m[\u001b[0m\u001b[0mi\u001b[0m\u001b[1;33m]\u001b[0m\u001b[1;33m.\u001b[0m\u001b[0mexposed_train_on_fold\u001b[0m\u001b[1;33m(\u001b[0m\u001b[0mrequestObj\u001b[0m\u001b[1;33m)\u001b[0m\u001b[1;33m\u001b[0m\u001b[1;33m\u001b[0m\u001b[0m\n\u001b[0;32m     52\u001b[0m \u001b[1;33m\u001b[0m\u001b[0m\n",
      "\u001b[1;32m~\\AppData\\Roaming\\Python\\Python39\\site-packages\\rpyc\\core\\netref.py\u001b[0m in \u001b[0;36m__call__\u001b[1;34m(_self, *args, **kwargs)\u001b[0m\n\u001b[0;32m    238\u001b[0m         \u001b[1;32mdef\u001b[0m \u001b[0m__call__\u001b[0m\u001b[1;33m(\u001b[0m\u001b[0m_self\u001b[0m\u001b[1;33m,\u001b[0m \u001b[1;33m*\u001b[0m\u001b[0margs\u001b[0m\u001b[1;33m,\u001b[0m \u001b[1;33m**\u001b[0m\u001b[0mkwargs\u001b[0m\u001b[1;33m)\u001b[0m\u001b[1;33m:\u001b[0m\u001b[1;33m\u001b[0m\u001b[1;33m\u001b[0m\u001b[0m\n\u001b[0;32m    239\u001b[0m             \u001b[0mkwargs\u001b[0m \u001b[1;33m=\u001b[0m \u001b[0mtuple\u001b[0m\u001b[1;33m(\u001b[0m\u001b[0mkwargs\u001b[0m\u001b[1;33m.\u001b[0m\u001b[0mitems\u001b[0m\u001b[1;33m(\u001b[0m\u001b[1;33m)\u001b[0m\u001b[1;33m)\u001b[0m\u001b[1;33m\u001b[0m\u001b[1;33m\u001b[0m\u001b[0m\n\u001b[1;32m--> 240\u001b[1;33m             \u001b[1;32mreturn\u001b[0m \u001b[0msyncreq\u001b[0m\u001b[1;33m(\u001b[0m\u001b[0m_self\u001b[0m\u001b[1;33m,\u001b[0m \u001b[0mconsts\u001b[0m\u001b[1;33m.\u001b[0m\u001b[0mHANDLE_CALL\u001b[0m\u001b[1;33m,\u001b[0m \u001b[0margs\u001b[0m\u001b[1;33m,\u001b[0m \u001b[0mkwargs\u001b[0m\u001b[1;33m)\u001b[0m\u001b[1;33m\u001b[0m\u001b[1;33m\u001b[0m\u001b[0m\n\u001b[0m\u001b[0;32m    241\u001b[0m         \u001b[0m__call__\u001b[0m\u001b[1;33m.\u001b[0m\u001b[0m__doc__\u001b[0m \u001b[1;33m=\u001b[0m \u001b[0mdoc\u001b[0m\u001b[1;33m\u001b[0m\u001b[1;33m\u001b[0m\u001b[0m\n\u001b[0;32m    242\u001b[0m         \u001b[1;32mreturn\u001b[0m \u001b[0m__call__\u001b[0m\u001b[1;33m\u001b[0m\u001b[1;33m\u001b[0m\u001b[0m\n",
      "\u001b[1;32m~\\AppData\\Roaming\\Python\\Python39\\site-packages\\rpyc\\core\\netref.py\u001b[0m in \u001b[0;36msyncreq\u001b[1;34m(proxy, handler, *args)\u001b[0m\n\u001b[0;32m     61\u001b[0m     \"\"\"\n\u001b[0;32m     62\u001b[0m     \u001b[0mconn\u001b[0m \u001b[1;33m=\u001b[0m \u001b[0mobject\u001b[0m\u001b[1;33m.\u001b[0m\u001b[0m__getattribute__\u001b[0m\u001b[1;33m(\u001b[0m\u001b[0mproxy\u001b[0m\u001b[1;33m,\u001b[0m \u001b[1;34m\"____conn__\"\u001b[0m\u001b[1;33m)\u001b[0m\u001b[1;33m\u001b[0m\u001b[1;33m\u001b[0m\u001b[0m\n\u001b[1;32m---> 63\u001b[1;33m     \u001b[1;32mreturn\u001b[0m \u001b[0mconn\u001b[0m\u001b[1;33m.\u001b[0m\u001b[0msync_request\u001b[0m\u001b[1;33m(\u001b[0m\u001b[0mhandler\u001b[0m\u001b[1;33m,\u001b[0m \u001b[0mproxy\u001b[0m\u001b[1;33m,\u001b[0m \u001b[1;33m*\u001b[0m\u001b[0margs\u001b[0m\u001b[1;33m)\u001b[0m\u001b[1;33m\u001b[0m\u001b[1;33m\u001b[0m\u001b[0m\n\u001b[0m\u001b[0;32m     64\u001b[0m \u001b[1;33m\u001b[0m\u001b[0m\n\u001b[0;32m     65\u001b[0m \u001b[1;33m\u001b[0m\u001b[0m\n",
      "\u001b[1;32m~\\AppData\\Roaming\\Python\\Python39\\site-packages\\rpyc\\core\\protocol.py\u001b[0m in \u001b[0;36msync_request\u001b[1;34m(self, handler, *args)\u001b[0m\n\u001b[0;32m    488\u001b[0m         \u001b[1;31m# _async_res is an instance of AsyncResult, the value property invokes Connection.serve via AsyncResult.wait\u001b[0m\u001b[1;33m\u001b[0m\u001b[1;33m\u001b[0m\u001b[0m\n\u001b[0;32m    489\u001b[0m         \u001b[1;31m# So, the _recvlock can be acquired multiple times by the owning thread and warrants the use of RLock\u001b[0m\u001b[1;33m\u001b[0m\u001b[1;33m\u001b[0m\u001b[0m\n\u001b[1;32m--> 490\u001b[1;33m         \u001b[1;32mreturn\u001b[0m \u001b[0m_async_res\u001b[0m\u001b[1;33m.\u001b[0m\u001b[0mvalue\u001b[0m\u001b[1;33m\u001b[0m\u001b[1;33m\u001b[0m\u001b[0m\n\u001b[0m\u001b[0;32m    491\u001b[0m \u001b[1;33m\u001b[0m\u001b[0m\n\u001b[0;32m    492\u001b[0m     \u001b[1;32mdef\u001b[0m \u001b[0m_async_request\u001b[0m\u001b[1;33m(\u001b[0m\u001b[0mself\u001b[0m\u001b[1;33m,\u001b[0m \u001b[0mhandler\u001b[0m\u001b[1;33m,\u001b[0m \u001b[0margs\u001b[0m\u001b[1;33m=\u001b[0m\u001b[1;33m(\u001b[0m\u001b[1;33m)\u001b[0m\u001b[1;33m,\u001b[0m \u001b[0mcallback\u001b[0m\u001b[1;33m=\u001b[0m\u001b[1;33m(\u001b[0m\u001b[1;32mlambda\u001b[0m \u001b[0ma\u001b[0m\u001b[1;33m,\u001b[0m \u001b[0mb\u001b[0m\u001b[1;33m:\u001b[0m \u001b[1;32mNone\u001b[0m\u001b[1;33m)\u001b[0m\u001b[1;33m)\u001b[0m\u001b[1;33m:\u001b[0m  \u001b[1;31m# serving\u001b[0m\u001b[1;33m\u001b[0m\u001b[1;33m\u001b[0m\u001b[0m\n",
      "\u001b[1;32m~\\AppData\\Roaming\\Python\\Python39\\site-packages\\rpyc\\core\\async_.py\u001b[0m in \u001b[0;36mvalue\u001b[1;34m(self)\u001b[0m\n\u001b[0;32m    106\u001b[0m         \u001b[0mself\u001b[0m\u001b[1;33m.\u001b[0m\u001b[0mwait\u001b[0m\u001b[1;33m(\u001b[0m\u001b[1;33m)\u001b[0m\u001b[1;33m\u001b[0m\u001b[1;33m\u001b[0m\u001b[0m\n\u001b[0;32m    107\u001b[0m         \u001b[1;32mif\u001b[0m \u001b[0mself\u001b[0m\u001b[1;33m.\u001b[0m\u001b[0m_is_exc\u001b[0m\u001b[1;33m:\u001b[0m\u001b[1;33m\u001b[0m\u001b[1;33m\u001b[0m\u001b[0m\n\u001b[1;32m--> 108\u001b[1;33m             \u001b[1;32mraise\u001b[0m \u001b[0mself\u001b[0m\u001b[1;33m.\u001b[0m\u001b[0m_obj\u001b[0m\u001b[1;33m\u001b[0m\u001b[1;33m\u001b[0m\u001b[0m\n\u001b[0m\u001b[0;32m    109\u001b[0m         \u001b[1;32melse\u001b[0m\u001b[1;33m:\u001b[0m\u001b[1;33m\u001b[0m\u001b[1;33m\u001b[0m\u001b[0m\n\u001b[0;32m    110\u001b[0m             \u001b[1;32mreturn\u001b[0m \u001b[0mself\u001b[0m\u001b[1;33m.\u001b[0m\u001b[0m_obj\u001b[0m\u001b[1;33m\u001b[0m\u001b[1;33m\u001b[0m\u001b[0m\n",
      "\u001b[1;31mAttributeError\u001b[0m: cannot access 'values'\n\n========= Remote Traceback (2) =========\nTraceback (most recent call last):\n  File \"C:\\Users\\ilyas\\AppData\\Roaming\\Python\\Python39\\site-packages\\rpyc\\core\\protocol.py\", line 324, in _dispatch_request\n    res = self._HANDLERS[handler](self, *args)\n  File \"C:\\Users\\ilyas\\AppData\\Roaming\\Python\\Python39\\site-packages\\rpyc\\core\\protocol.py\", line 609, in _handle_call\n    return obj(*args, **dict(kwargs))\n  File \"c:\\Users\\ilyas\\Documents\\.GeneralCode\\py\\dpc\\rpyc-master\\Service.py\", line 40, in exposed_train_on_fold\n    id, default_model, all_data_x, all_data_y, train_index, test_index = requestObject.values()\n  File \"C:\\Users\\ilyas\\AppData\\Roaming\\Python\\Python39\\site-packages\\rpyc\\core\\netref.py\", line 153, in __getattr__\n    return syncreq(self, consts.HANDLE_GETATTR, name)\n  File \"C:\\Users\\ilyas\\AppData\\Roaming\\Python\\Python39\\site-packages\\rpyc\\core\\netref.py\", line 63, in syncreq\n    return conn.sync_request(handler, proxy, *args)\n  File \"C:\\Users\\ilyas\\AppData\\Roaming\\Python\\Python39\\site-packages\\rpyc\\core\\protocol.py\", line 490, in sync_request\n    return _async_res.value\n  File \"C:\\Users\\ilyas\\AppData\\Roaming\\Python\\Python39\\site-packages\\rpyc\\core\\async_.py\", line 108, in value\n    raise self._obj\n_get_exception_class.<locals>.Derived: cannot access 'values'\n\n========= Remote Traceback (1) =========\nTraceback (most recent call last):\n  File \"C:\\Users\\ilyas\\AppData\\Roaming\\Python\\Python39\\site-packages\\rpyc\\core\\protocol.py\", line 324, in _dispatch_request\n    res = self._HANDLERS[handler](self, *args)\n  File \"C:\\Users\\ilyas\\AppData\\Roaming\\Python\\Python39\\site-packages\\rpyc\\core\\protocol.py\", line 625, in _handle_getattr\n    return self._access_attr(obj, name, (), \"_rpyc_getattr\", \"allow_getattr\", getattr)\n  File \"C:\\Users\\ilyas\\AppData\\Roaming\\Python\\Python39\\site-packages\\rpyc\\core\\protocol.py\", line 552, in _access_attr\n    name = self._check_attr(obj, name, param)\n  File \"C:\\Users\\ilyas\\AppData\\Roaming\\Python\\Python39\\site-packages\\rpyc\\core\\protocol.py\", line 542, in _check_attr\n    raise AttributeError(f\"cannot access {name!r}\")\nAttributeError: cannot access 'values'\n\n"
     ]
    }
   ],
   "source": [
    "accuracy = skf.distribute_folds(data, target, best_model)\n",
    "\n",
    "accuracy"
   ]
  }
 ],
 "metadata": {
  "kernelspec": {
   "display_name": "Python 3.9.7 ('base')",
   "language": "python",
   "name": "python3"
  },
  "language_info": {
   "codemirror_mode": {
    "name": "ipython",
    "version": 3
   },
   "file_extension": ".py",
   "mimetype": "text/x-python",
   "name": "python",
   "nbconvert_exporter": "python",
   "pygments_lexer": "ipython3",
   "version": "3.9.7"
  },
  "orig_nbformat": 4,
  "vscode": {
   "interpreter": {
    "hash": "93106c0eaa532dd0c8a7058cb4b8821b30c9bda4e8dcedc59f25d21035922188"
   }
  }
 },
 "nbformat": 4,
 "nbformat_minor": 2
}
