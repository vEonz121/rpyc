{
 "cells": [
  {
   "cell_type": "markdown",
   "metadata": {},
   "source": [
    "<b>Prepared by: </b>CTRL + Z Zone\n",
    "\n",
    "| No. | Name                                        | ID                    | Program                   |\n",
    "|-----|---------------------------------------------|-----------------------|---------------------------|\n",
    "| 1   |     Mohd Nazeem Bin Mohamad Salim           |     18000927          |     Information System    |\n",
    "| 2   |     Danish Hisyam                           |     18001136          |     Computer Science      |\n",
    "| 3   |     Ahvinraaj A/L Thetchinamoorthy          |     17009199          |     Computer Science      |\n",
    "| 4   |     Ilyas Bin Johari                        |     18000842          |     Computer Science      |"
   ]
  },
  {
   "cell_type": "markdown",
   "metadata": {},
   "source": [
    "# <u><b>IMPORT DATASET</b></u>"
   ]
  },
  {
   "cell_type": "code",
   "execution_count": 1,
   "metadata": {},
   "outputs": [],
   "source": [
    "import pandas as pd\n",
    "pd.set_option('display.max_columns', None)\n",
    "\n",
    "\n",
    "raw_data = pd.read_excel('./raw.xlsx')"
   ]
  },
  {
   "cell_type": "markdown",
   "metadata": {},
   "source": [
    "# <u><b>DATA CLEANING</b></u>"
   ]
  },
  {
   "cell_type": "code",
   "execution_count": 2,
   "metadata": {},
   "outputs": [],
   "source": [
    "import numpy as np\n",
    "\n",
    "new_colnames = ['b_problem','fever','d_cough','s_throat','r_nose','asthma','l_disease','headache','h_disease','diabetes','h_tension','fatigue','g_intes','a_travel','p_contact','l_gather','e_places_v','e_places_f', 'w_masks', 's_market', 'target']\n",
    "encoded = pd.DataFrame(columns=new_colnames)\n",
    "\n",
    "# for every column in columns of old dataframe\n",
    "for k, original_colname in enumerate(raw_data.columns):\n",
    "    # if old data contains a \"Y\" or \"1\", enter 1 into new dataframe. else, enter 0\n",
    "    encoded[new_colnames[k]] = np.where(raw_data[original_colname].str.startswith((\"Y\", \"1\")), 1, 0)"
   ]
  },
  {
   "cell_type": "code",
   "execution_count": 3,
   "metadata": {},
   "outputs": [],
   "source": [
    "final = encoded.drop(['w_masks','s_market'], axis=1)"
   ]
  },
  {
   "cell_type": "markdown",
   "metadata": {},
   "source": [
    "# <u><b>MODEL TRAINING</b></u>"
   ]
  },
  {
   "cell_type": "markdown",
   "metadata": {},
   "source": [
    "### _Model Evaluation_"
   ]
  },
  {
   "cell_type": "code",
   "execution_count": 4,
   "metadata": {},
   "outputs": [],
   "source": [
    "from sklearn.svm import LinearSVC\n",
    "\n",
    "\n",
    "data = final.drop('target', axis=1)\n",
    "target = final.target"
   ]
  },
  {
   "cell_type": "markdown",
   "metadata": {},
   "source": [
    "> Perform final evaluation using SKFCV."
   ]
  },
  {
   "cell_type": "code",
   "execution_count": 5,
   "metadata": {},
   "outputs": [
    {
     "name": "stdout",
     "output_type": "stream",
     "text": [
      "List of Found Services: ('FOLD0', 'FOLD1')\n"
     ]
    },
    {
     "data": {
      "text/plain": [
       "'There are 2 out of 2 services responded to the ping.'"
      ]
     },
     "execution_count": 5,
     "metadata": {},
     "output_type": "execute_result"
    }
   ],
   "source": [
    "from Client import FoldDistributor\n",
    "\n",
    "best_model = LinearSVC()\n",
    "\n",
    "\n",
    "num_of_folds = 3\n",
    "\n",
    "skf = FoldDistributor(num_of_folds)\n",
    "skf.ping_services()"
   ]
  },
  {
   "cell_type": "code",
   "execution_count": 6,
   "metadata": {},
   "outputs": [
    {
     "name": "stdout",
     "output_type": "stream",
     "text": [
      "Fold 0 complete\n",
      "<netref class 'rpyc.core.netref.type'>\n",
      "Fold 1 complete\n",
      "<netref class 'rpyc.core.netref.type'>\n"
     ]
    },
    {
     "data": {
      "text/plain": [
       "[0.9639308060360692, 0.9642988590357011]"
      ]
     },
     "execution_count": 6,
     "metadata": {},
     "output_type": "execute_result"
    }
   ],
   "source": [
    "accuracy = skf.distribute_folds(data, target, best_model)\n",
    "\n",
    "accuracy"
   ]
  }
 ],
 "metadata": {
  "kernelspec": {
   "display_name": "Python 3.9.7 ('base')",
   "language": "python",
   "name": "python3"
  },
  "language_info": {
   "codemirror_mode": {
    "name": "ipython",
    "version": 3
   },
   "file_extension": ".py",
   "mimetype": "text/x-python",
   "name": "python",
   "nbconvert_exporter": "python",
   "pygments_lexer": "ipython3",
   "version": "3.9.7"
  },
  "orig_nbformat": 4,
  "vscode": {
   "interpreter": {
    "hash": "93106c0eaa532dd0c8a7058cb4b8821b30c9bda4e8dcedc59f25d21035922188"
   }
  }
 },
 "nbformat": 4,
 "nbformat_minor": 2
}
